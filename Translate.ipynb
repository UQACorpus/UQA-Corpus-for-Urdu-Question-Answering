{
 "cells": [
  {
   "cell_type": "code",
   "execution_count": null,
   "metadata": {
    "id": "ffldTFXWrkTp"
   },
   "outputs": [],
   "source": [
    "!git clone https://github.com/facebookresearch/seamless_communication.git && cd seamless_communication && pip install ."
   ]
  },
  {
   "cell_type": "code",
   "execution_count": null,
   "metadata": {
    "id": "if8hg2jPsLu2"
   },
   "outputs": [],
   "source": [
    "import pandas as pd\n",
    "import re\n",
    "import ast\n",
    "from tqdm import tqdm"
   ]
  },
  {
   "cell_type": "code",
   "execution_count": null,
   "metadata": {
    "colab": {
     "base_uri": "https://localhost:8080/"
    },
    "id": "lCJCnbxHsTjy",
    "outputId": "9377498b-e28d-47d4-dd83-a851a7451b03"
   },
   "outputs": [],
   "source": [
    "import torch\n",
    "from seamless_communication.models.inference import Translator\n",
    "\n",
    "MODEL = \"seamlessM4T_large\"\n",
    "VOCODER = \"vocoder_36langs\"\n",
    "DEVICE = \"cuda\"\n",
    "TGT_LANG = \"urd\"\n",
    "SRC_LANG = \"eng\"\n",
    "\n",
    "translator = Translator(MODEL, vocoder_name_or_card=VOCODER, device=torch.device(DEVICE))"
   ]
  },
  {
   "cell_type": "code",
   "execution_count": null,
   "metadata": {
    "id": "OqLOIPUfsOAW"
   },
   "outputs": [],
   "source": [
    "def translate_m4t(translator, text):\n",
    "    translated_text, _, _ = translator.predict(text, \"t2tt\", TGT_LANG, src_lang=SRC_LANG)\n",
    "    return str(translated_text)\n",
    "\n",
    "def translate(translator, SQuAD, data):\n",
    "    for i in data:\n",
    "        print(f\"Translating data: {(i + 1)}/{len(data)}\")\n",
    "        df = SQuAD[SQuAD[\"data_num\"] == i]\n",
    "        rows = []\n",
    "        for j in tqdm(range(len(df))):\n",
    "            data_num = df.iloc[j][\"data_num\"]\n",
    "            paragraph_num = df.iloc[j][\"paragraph_num\"]\n",
    "            id = df.iloc[j][\"id\"]\n",
    "            title = df.iloc[j][\"title\"]\n",
    "            context = ast.literal_eval(df.iloc[j][\"context\"])\n",
    "            question = df.iloc[j][\"question\"]\n",
    "            is_impossible = df.iloc[j][\"is_impossible\"]\n",
    "            title_ = translate_m4t(translator, title)\n",
    "            question_ = translate_m4t(translator, question)\n",
    "            \n",
    "            context_ = []\n",
    "            review = True\n",
    "            for sentence in context:\n",
    "                if \"••\" in sentence:\n",
    "                sentence = re.sub(\"••'\", \"\\\"\", sentence)\n",
    "                sentence = re.sub(\"'••\", \"\\\"\", sentence)\n",
    "                sentence = re.sub(\"••\", \"\\\"\", sentence)\n",
    "                sentence_ = translate_m4t(translator, sentence)\n",
    "                if sentence_.count(\"\\\"\") == 2:\n",
    "                    sentence_ = re.sub(\"\\\"\", \"••\", sentence_)\n",
    "                    review = False\n",
    "                    context_.append(sentence_)\n",
    "                else:\n",
    "                    sentence_= translate_m4t(translator, sentence)\n",
    "                    context_.append(sentence_)\n",
    "\n",
    "            context_ = \" \".join(context_)\n",
    "\n",
    "            row = (data_num, paragraph_num, id, title_, context_, question_, is_impossible, review)\n",
    "            rows.append(row)\n",
    "\n",
    "        df_translated = pd.DataFrame(rows, columns=[\"data_num\", \"paragraph_num\", \"id\", \"title\", \"context\",\n",
    "                                                    \"question\", \"is_impossible\", \"review\"])\n",
    "        df_translated.to_csv(f\"SQuAD-UR/train-v2.0/{i}.csv\")"
   ]
  },
  {
   "cell_type": "code",
   "execution_count": null,
   "metadata": {
    "id": "jmzSi9EeLAgO"
   },
   "outputs": [],
   "source": [
    "SQuAD_train = pd.read_csv(\"/SQuAD/train-v2.0-clean.csv\")"
   ]
  },
  {
   "cell_type": "code",
   "execution_count": null,
   "metadata": {
    "colab": {
     "base_uri": "https://localhost:8080/"
    },
    "id": "JdJMVIjgghcX",
    "outputId": "a2ad2958-9b21-4f9e-d6a7-c881ddd20798"
   },
   "outputs": [],
   "source": [
    "translate(translator, SQuAD_train, list(range(0, 442)))"
   ]
  },
  {
   "cell_type": "code",
   "execution_count": null,
   "metadata": {
    "id": "aiBul_-1e9Kw"
   },
   "outputs": [],
   "source": [
    "SQuAD_dev = pd.read_csv(\"/SQuAD/dev-v2.0-clean.csv\")"
   ]
  },
  {
   "cell_type": "code",
   "execution_count": null,
   "metadata": {},
   "outputs": [],
   "source": [
    "translate(translator, SQuAD_dev, list(range(0, 35)))"
   ]
  },
  {
   "cell_type": "code",
   "execution_count": null,
   "metadata": {},
   "outputs": [],
   "source": []
  }
 ],
 "metadata": {
  "accelerator": "GPU",
  "colab": {
   "gpuType": "T4",
   "provenance": []
  },
  "kernelspec": {
   "display_name": "Python 3 (ipykernel)",
   "language": "python",
   "name": "python3"
  },
  "language_info": {
   "codemirror_mode": {
    "name": "ipython",
    "version": 3
   },
   "file_extension": ".py",
   "mimetype": "text/x-python",
   "name": "python",
   "nbconvert_exporter": "python",
   "pygments_lexer": "ipython3",
   "version": "3.10.12"
  }
 },
 "nbformat": 4,
 "nbformat_minor": 1
}
