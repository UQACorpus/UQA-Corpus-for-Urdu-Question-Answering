{
 "cells": [
  {
   "cell_type": "code",
   "execution_count": null,
   "id": "e80cd70e",
   "metadata": {},
   "outputs": [],
   "source": [
    "import json\n",
    "from glob import glob\n",
    "import pandas as pd\n",
    "import copy\n",
    "import re\n",
    "from tqdm import tqdm"
   ]
  },
  {
   "cell_type": "code",
   "execution_count": null,
   "id": "158049e8",
   "metadata": {},
   "outputs": [],
   "source": [
    "SQuAD_train = json.load(open(\"SQuAD/train-v2.0.json\"))\n",
    "SQuAD_dev = json.load(open(\"SQuAD/dev-v2.0.json\"))"
   ]
  },
  {
   "cell_type": "markdown",
   "id": "88cbe508",
   "metadata": {},
   "source": [
    "### Extract Context with Length > 1000"
   ]
  },
  {
   "cell_type": "code",
   "execution_count": null,
   "id": "9a7813c7",
   "metadata": {},
   "outputs": [],
   "source": [
    "for i, data in enumerate(SQuAD_train[\"data\"]):\n",
    "    for j, paragraph in enumerate(data[\"paragraphs\"]):\n",
    "        if len(paragraph[\"context\"]) > 1000:\n",
    "            if \"\\n\" in paragraph[\"context\"]:\n",
    "                file = open(f\"SQuAD/Paragraph Fix - Phase 2/train-v2.0/{i}_{j}.txt\", \"w\", encoding=\"utf-8\")\n",
    "                file.write(paragraph[\"context\"])\n",
    "                file.close()\n",
    "            else:\n",
    "                file = open(f\"SQuAD/Paragraph Fix - Phase 1/train-v2.0/{i}_{j}.txt\", \"w\", encoding=\"utf-8\")\n",
    "                file.write(paragraph[\"context\"])\n",
    "                file.close()"
   ]
  },
  {
   "cell_type": "code",
   "execution_count": null,
   "id": "48ee8c58",
   "metadata": {},
   "outputs": [],
   "source": [
    "for i, data in enumerate(SQuAD_dev[\"data\"]):\n",
    "    for j, paragraph in enumerate(data[\"paragraphs\"]):\n",
    "        if len(paragraph[\"context\"]) > 1000:\n",
    "            if \"\\n\" in paragraph[\"context\"]:\n",
    "                file = open(f\"SQuAD/Paragraph Fix - Phase 2/dev-v2.0/{i}_{j}.txt\", \"w\", encoding=\"utf-8\")\n",
    "                file.write(paragraph[\"context\"])\n",
    "                file.close()\n",
    "            else:\n",
    "                file = open(f\"SQuAD/Paragraph Fix - Phase 1/dev-v2.0/{i}_{j}.txt\", \"w\", encoding=\"utf-8\")\n",
    "                file.write(paragraph[\"context\"])\n",
    "                file.close()"
   ]
  },
  {
   "cell_type": "markdown",
   "id": "3b8bba01",
   "metadata": {},
   "source": [
    "### Clean SQuAD"
   ]
  },
  {
   "cell_type": "code",
   "execution_count": null,
   "id": "b6d552ad",
   "metadata": {},
   "outputs": [],
   "source": [
    "char_map = {\"–\": \"--\", \"—\": \"--\", \"″\": \"\", \"’\": \"'\", \"⁄\":\"/\", \"ˈ\":\"'\", \"“\":\"\", \"”\":\"\", \"\\\"\":\"\", \";\": \"؛\"}\n",
    "\n",
    "def clean_context(context):\n",
    "    new_context = []\n",
    "    for text in context:\n",
    "        for key, value in char_map.items():\n",
    "            text = re.sub(key, value, text)\n",
    "        new_context.append(text)\n",
    "    return new_context\n",
    "\n",
    "def clean_text(text):\n",
    "    for key, value in char_map.items():\n",
    "        text = re.sub(key, value, text)\n",
    "    return text\n",
    "\n",
    "def insert_delimiter(context, answer_start, answer_length, delimiter):\n",
    "    new_context = []\n",
    "    if len(context) == 1:\n",
    "        line = context[0][:answer_start] + delimiter + context[0][answer_start:answer_start + answer_length] \n",
    "        line += delimiter + context[0][answer_start + answer_length:]\n",
    "        new_context = [line]\n",
    "    else:\n",
    "        idx = -1\n",
    "        running_length = 0\n",
    "        while running_length <= answer_start:\n",
    "            idx += 1\n",
    "            running_length += len(context[idx])\n",
    "        \n",
    "        for i in range(0, idx):\n",
    "            answer_start -= len(context[i])\n",
    "            \n",
    "        for i in range(len(context)):\n",
    "            if i == idx:\n",
    "                line = context[i][:answer_start] + delimiter \n",
    "                line += context[i][answer_start:answer_start + answer_length] + delimiter \n",
    "                line += context[i][answer_start + answer_length:]\n",
    "                new_context.append(line)\n",
    "            else:\n",
    "                new_context.append(context[i])\n",
    "\n",
    "    return new_context\n",
    "\n",
    "def split_context(SQuAD, type_):\n",
    "    files = glob(f\"SQuAD/Paragraph Fix - Phase 1/{type_}/*.txt\")\n",
    "    files.extend(glob(f\"SQuAD/Paragraph Fix - Phase 2/{type_}/*.txt\"))\n",
    "    files_map = {}\n",
    "    for file in files:\n",
    "        key = file.split(\"/\")[-1].split(\".\")[0]\n",
    "        files_map[key] = file\n",
    "\n",
    "    for i, data in enumerate(SQuAD[\"data\"]):\n",
    "        for j, paragraph in enumerate(data[\"paragraphs\"]):\n",
    "            if f\"{i}_{j}\" in files_map:\n",
    "                paragraph[\"context\"] = open(files_map[f\"{i}_{j}\"], \"r\", encoding=\"utf-8\").read().split(\"\\n\")[:-1]\n",
    "            else:\n",
    "                paragraph[\"context\"] = [paragraph[\"context\"]]\n",
    "\n",
    "    return SQuAD\n",
    "        \n",
    "def clean_SQuAD(SQuAD):\n",
    "    df = pd.DataFrame(columns=[\"data_num\", \"paragraph_num\", \"id\", \"title\", \"context\", \"question\", \"answer\", \n",
    "                               \"is_impossible\"])\n",
    "    for i, data in enumerate(tqdm(SQuAD[\"data\"])):\n",
    "        title = data[\"title\"]\n",
    "        for j, paragraph in enumerate(data[\"paragraphs\"]):\n",
    "            for qas in paragraph[\"qas\"]:\n",
    "                question = qas[\"question\"]\n",
    "                id_ = qas[\"id\"]\n",
    "                is_impossible = qas[\"is_impossible\"]\n",
    "                type_ = \"answers\"\n",
    "                if is_impossible:\n",
    "                    type_ = \"plausible_answers\"\n",
    "                prev_answer = \"\"\n",
    "                for answer in qas[type_]:\n",
    "                    answer_ = answer[\"text\"]\n",
    "                    restore_quote = False\n",
    "                    if prev_answer == \"\":\n",
    "                        prev_answer = answer_\n",
    "                    elif prev_answer == answer_:\n",
    "                        continue\n",
    "                    context = insert_delimiter(paragraph[\"context\"], answer[\"answer_start\"], \n",
    "                                               len(answer_), \"••\")\n",
    "                    answer_ = clean_text(answer[\"text\"])\n",
    "                    context = clean_context(context)\n",
    "                    \n",
    "                    row = [i, j, id_, title, context, question, answer_, is_impossible]\n",
    "                    df.loc[len(df)] = row\n",
    "    return df"
   ]
  },
  {
   "cell_type": "code",
   "execution_count": null,
   "id": "92fb8920",
   "metadata": {},
   "outputs": [],
   "source": [
    "SQuAD_dev_split = split_context(copy.deepcopy(SQuAD_dev), \"dev-v2.0\")\n",
    "with open(\"SQuAD/dev-2.0-split.json\", \"w\", encoding=\"utf-8\") as f:\n",
    "    json.dump(SQuAD_dev_split, f)"
   ]
  },
  {
   "cell_type": "code",
   "execution_count": null,
   "id": "04928829",
   "metadata": {},
   "outputs": [],
   "source": [
    "SQuAD_dev_clean = clean_SQuAD(copy.deepcopy(SQuAD_dev_split))\n",
    "SQuAD_dev_clean.to_csv(\"SQuAD/dev-v2.0-clean.csv\")"
   ]
  },
  {
   "cell_type": "code",
   "execution_count": null,
   "id": "0e71c566",
   "metadata": {},
   "outputs": [],
   "source": [
    "SQuAD_train_split = split_context(copy.deepcopy(SQuAD_train), \"train-v2.0\")\n",
    "with open(\"./SQuAD/train-2.0-split.json\", \"w\", encoding=\"utf-8\") as f:\n",
    "    json.dump(SQuAD_train_split, f)"
   ]
  },
  {
   "cell_type": "code",
   "execution_count": null,
   "id": "0c15bfa0",
   "metadata": {
    "scrolled": true
   },
   "outputs": [],
   "source": [
    "SQuAD_train_clean = clean_SQuAD(copy.deepcopy(SQuAD_train_split))\n",
    "SQuAD_train_clean.to_csv(\"./SQuAD/train-v2.0-clean.csv\")"
   ]
  },
  {
   "cell_type": "code",
   "execution_count": null,
   "id": "f5cd4cc8",
   "metadata": {},
   "outputs": [],
   "source": []
  }
 ],
 "metadata": {
  "kernelspec": {
   "display_name": "Python 3 (ipykernel)",
   "language": "python",
   "name": "python3"
  },
  "language_info": {
   "codemirror_mode": {
    "name": "ipython",
    "version": 3
   },
   "file_extension": ".py",
   "mimetype": "text/x-python",
   "name": "python",
   "nbconvert_exporter": "python",
   "pygments_lexer": "ipython3",
   "version": "3.10.12"
  }
 },
 "nbformat": 4,
 "nbformat_minor": 5
}
