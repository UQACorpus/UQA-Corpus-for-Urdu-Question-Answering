{
 "cells": [
  {
   "cell_type": "code",
   "execution_count": null,
   "id": "1VZmPlHItXQ4",
   "metadata": {
    "colab": {
     "base_uri": "https://localhost:8080/"
    },
    "id": "1VZmPlHItXQ4",
    "outputId": "696a05f6-6e62-4785-cd26-b6af0b3e9d3e"
   },
   "outputs": [],
   "source": [
    "!pip install krippendorff"
   ]
  },
  {
   "cell_type": "code",
   "execution_count": null,
   "id": "c1ecab3d",
   "metadata": {
    "id": "c1ecab3d"
   },
   "outputs": [],
   "source": [
    "from glob import glob\n",
    "import pandas as pd\n",
    "import numpy as np\n",
    "import krippendorff"
   ]
  },
  {
   "cell_type": "code",
   "execution_count": null,
   "id": "ae519baa",
   "metadata": {
    "colab": {
     "base_uri": "https://localhost:8080/"
    },
    "id": "ae519baa",
    "outputId": "28f1889e-7c42-4cb0-b9cc-2dc9b57b9efc"
   },
   "outputs": [],
   "source": [
    "data = glob(\"Annotations/*.csv\")"
   ]
  },
  {
   "cell_type": "code",
   "execution_count": null,
   "id": "6a7b33aa",
   "metadata": {
    "id": "6a7b33aa"
   },
   "outputs": [],
   "source": [
    "all_labels = []\n",
    "\n",
    "for file in data:\n",
    "    labels = []\n",
    "    df = pd.read_csv(file)\n",
    "    for i in range(100):\n",
    "        row = df.iloc[i]\n",
    "        if row[\"Label\"].strip(\" \").lower() == \"a\":\n",
    "            labels.append(1)\n",
    "        elif row[\"Label\"].strip(\" \").lower() == \"b\":\n",
    "            labels.append(2)\n",
    "        elif row[\"Label\"].strip(\" \").lower() == \"c\":\n",
    "            labels.append(3)\n",
    "    all_labels.append(labels)"
   ]
  },
  {
   "cell_type": "code",
   "execution_count": null,
   "id": "5ed454dc",
   "metadata": {
    "colab": {
     "base_uri": "https://localhost:8080/"
    },
    "id": "5ed454dc",
    "outputId": "799ac1f8-e4e1-47f5-e1a5-73bcdcdda815"
   },
   "outputs": [],
   "source": [
    "alpha = krippendorff.alpha(all_labels, level_of_measurement='nominal')\n",
    "print(alpha)"
   ]
  },
  {
   "cell_type": "code",
   "execution_count": null,
   "id": "dHNrCcPIh9Qk",
   "metadata": {
    "id": "dHNrCcPIh9Qk"
   },
   "outputs": [],
   "source": []
  }
 ],
 "metadata": {
  "colab": {
   "provenance": []
  },
  "kernelspec": {
   "display_name": "ASR",
   "language": "python",
   "name": "asr"
  },
  "language_info": {
   "codemirror_mode": {
    "name": "ipython",
    "version": 3
   },
   "file_extension": ".py",
   "mimetype": "text/x-python",
   "name": "python",
   "nbconvert_exporter": "python",
   "pygments_lexer": "ipython3",
   "version": "3.10.12"
  }
 },
 "nbformat": 4,
 "nbformat_minor": 5
}
